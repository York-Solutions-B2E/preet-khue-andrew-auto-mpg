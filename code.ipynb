{
 "cells": [
  {
   "cell_type": "code",
   "execution_count": 97,
   "metadata": {},
   "outputs": [],
   "source": [
    "import numpy as np\n",
    "import pandas as pd\n",
    "import seaborn as sns\n",
    "import matplotlib.pyplot as plt\n",
    "from sklearn import preprocessing\n",
    "from sklearn.model_selection import train_test_split\n",
    "from sklearn.metrics import mean_absolute_error, r2_score, mean_squared_error\n",
    "from sklearn.neighbors import KNeighborsRegressor\n",
    "from sklearn.svm import SVR, LinearSVR\n",
    "from sklearn.linear_model import BayesianRidge\n"
   ]
  },
  {
   "cell_type": "code",
   "execution_count": 94,
   "metadata": {},
   "outputs": [
    {
     "name": "stdout",
     "output_type": "stream",
     "text": [
      "   model_year  origin  displacement  cylinders  horsepower    weight  \\\n",
      "0          70       1      1.077290   1.483947    0.664133  0.620540   \n",
      "1          70       1      1.488732   1.483947    1.574594  0.843334   \n",
      "2          70       1      1.182542   1.483947    1.184397  0.540382   \n",
      "3          70       1      1.048584   1.483947    1.184397  0.536845   \n",
      "4          70       1      1.029447   1.483947    0.924265  0.555706   \n",
      "\n",
      "   acceleration       mpg  \n",
      "0     -1.285258 -0.698638  \n",
      "1     -1.466724 -1.083498  \n",
      "2     -1.648189 -0.698638  \n",
      "3     -1.285258 -0.955212  \n",
      "4     -1.829655 -0.826925  \n"
     ]
    }
   ],
   "source": [
    "df = pd.read_csv('./auto_1993_adj.csv')\n",
    "# df.isnull().sum() 6 rows missing horsepower value. Drop those rows\n",
    "df_dropnull = df.dropna().reset_index(drop=True)\n",
    "\n",
    "df_dropnull.duplicated().value_counts() # No duplicates\n",
    "\n",
    "cat_columns = [\"ID\", \"model_year\", \"origin\"] # Remove non-quantity features prior to scaling\n",
    "cat_df = df_dropnull[cat_columns].reset_index(drop=True)\n",
    "df_subset = df_dropnull.drop(columns=cat_columns) \n",
    "\n",
    "scaler = preprocessing.StandardScaler()\n",
    "df_scaled_vals = scaler.fit_transform(df_subset)\n",
    "df_scaled = pd.DataFrame(df_scaled_vals, columns=df_subset.columns)\n",
    "\n",
    "df_final = pd.concat([cat_df, df_scaled], axis=1) # Restore non-quantity features\n",
    "df_final = df_final.drop(columns=\"ID\")\n",
    "\n",
    "print(df_final.head())\n",
    "# df_scaled.hist(bins=50, figsize=(15,10))\n",
    "# corr_matrix = df_scaled.corr()\n",
    "# plt.figure(figsize=(12,10))\n",
    "# sns.heatmap(corr_matrix, annot=True, cmap='coolwarm')\n",
    "# plt.show()"
   ]
  },
  {
   "cell_type": "code",
   "execution_count": 99,
   "metadata": {},
   "outputs": [
    {
     "name": "stdout",
     "output_type": "stream",
     "text": [
      "0    -0.698638\n",
      "1    -1.083498\n",
      "2    -0.698638\n",
      "3    -0.955212\n",
      "4    -0.826925\n",
      "5    -1.083498\n",
      "6    -1.211785\n",
      "7    -1.211785\n",
      "8    -1.211785\n",
      "9    -1.083498\n",
      "10   -1.083498\n",
      "11   -1.211785\n",
      "12   -1.083498\n",
      "13   -1.211785\n",
      "14    0.071081\n",
      "15   -0.185492\n",
      "16   -0.698638\n",
      "17   -0.313779\n",
      "18    0.455941\n",
      "19    0.327654\n",
      "Name: mpg, dtype: float64\n",
      "MAE, MSE, R^2\n",
      "KNN\n",
      "0.29762493648293814 0.16451838760677595 0.8631842914901408\n",
      "LinearSVR\n",
      "0.541917006878063 0.41926094366303535 0.6513369484578646\n",
      "Ridge\n",
      "0.34405096783046735 0.21606966964087823 0.8203135505432682\n"
     ]
    },
    {
     "name": "stderr",
     "output_type": "stream",
     "text": [
      "/usr/local/lib/python3.11/site-packages/sklearn/svm/_classes.py:32: FutureWarning: The default value of `dual` will change from `True` to `'auto'` in 1.5. Set the value of `dual` explicitly to suppress the warning.\n",
      "  warnings.warn(\n",
      "/usr/local/lib/python3.11/site-packages/sklearn/svm/_base.py:1250: ConvergenceWarning: Liblinear failed to converge, increase the number of iterations.\n",
      "  warnings.warn(\n"
     ]
    }
   ],
   "source": [
    "X = df_final.drop([\"mpg\"], axis=1)\n",
    "y = df_final.mpg\n",
    "\n",
    "X_train, X_test, y_train, y_test = train_test_split(X,y, test_size=0.25, random_state=16)\n",
    "\n",
    "# Feature Set 1: year, origin, displacement, cylinders, horsepower, weight, accel.\n",
    "knn_model = KNeighborsRegressor()\n",
    "knn_model.fit(X_train, y_train)\n",
    "knn_pred = knn_model.predict(X_test)\n",
    "\n",
    "lsvr_model = LinearSVR()\n",
    "lsvr_model.fit(X_train, y_train)\n",
    "lsvr_pred = lsvr_model.predict(X_test)\n",
    "\n",
    "ridge_model = BayesianRidge()\n",
    "ridge_model.fit(X_train, y_train)\n",
    "ridge_pred = ridge_model.predict(X_test)\n",
    "\n",
    "# Metrics\n",
    "mae_knn = mean_absolute_error(y_test, knn_pred)\n",
    "mse_knn = mean_squared_error(y_test, knn_pred)\n",
    "r2_knn = r2_score(y_test, knn_pred)\n",
    "\n",
    "mae_svr = mean_absolute_error(y_test, lsvr_pred)\n",
    "mse_svr = mean_squared_error(y_test, lsvr_pred)\n",
    "r2_svr = r2_score(y_test, lsvr_pred)\n",
    "\n",
    "mae_ridge = mean_absolute_error(y_test, ridge_pred)\n",
    "mse_ridge = mean_squared_error(y_test, ridge_pred)\n",
    "r2_ridge = r2_score(y_test, ridge_pred)\n",
    "\n",
    "print(\"MAE, MSE, R^2\")\n",
    "print(\"KNN\")\n",
    "print(mae_knn, mse_knn, r2_knn)\n",
    "print(\"LinearSVR\")\n",
    "print(mae_svr, mse_svr, r2_svr)\n",
    "print(\"Ridge\")\n",
    "print(mae_ridge, mse_ridge, r2_ridge)"
   ]
  }
 ],
 "metadata": {
  "kernelspec": {
   "display_name": "Python 3",
   "language": "python",
   "name": "python3"
  },
  "language_info": {
   "codemirror_mode": {
    "name": "ipython",
    "version": 3
   },
   "file_extension": ".py",
   "mimetype": "text/x-python",
   "name": "python",
   "nbconvert_exporter": "python",
   "pygments_lexer": "ipython3",
   "version": "3.11.6"
  }
 },
 "nbformat": 4,
 "nbformat_minor": 2
}
